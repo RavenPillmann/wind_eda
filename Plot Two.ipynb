{
 "cells": [
  {
   "cell_type": "code",
   "execution_count": 11,
   "metadata": {},
   "outputs": [],
   "source": [
    "import h5pyd\n",
    "from pyproj import Proj\n",
    "\n",
    "import pandas as pd\n",
    "import numpy as np\n",
    "\n",
    "wt_df = pd.read_csv('uswtdbCSV/uswtdb_v1_2_20181001.csv')\n",
    "\n",
    "# Grabbed from the intro demo notebook at https://www.nrel.gov/grid/wind-toolkit.html\n",
    "f = h5pyd.File(\"/nrel/wtk-us.h5\", 'r') \n",
    "\n",
    "dset_coords = f['coordinates']\n",
    "projstring = \"\"\"+proj=lcc +lat_1=30 +lat_2=60 \n",
    "                    +lat_0=38.47240422490422 +lon_0=-96.0 \n",
    "                    +x_0=0 +y_0=0 +ellps=sphere \n",
    "                    +units=m +no_defs \"\"\"\n",
    "projectLcc = Proj(projstring)\n",
    "origin_ll = reversed(dset_coords[0][0])  # Grab origin directly from database\n",
    "origin = projectLcc(*origin_ll)\n",
    "\n",
    "def updatedIndicesForCoord(f, origin, projectLcc, lat, lon):\n",
    "    coords = (lon, lat)\n",
    "    coords = projectLcc(*coords)\n",
    "    delta = np.subtract(coords, origin)\n",
    "    ij = [int(round(x/2000)) for x in delta]\n",
    "    return tuple(reversed(ij))\n",
    "\n",
    "_xy = wt_df[['ylat','xlong']].apply(lambda x: updatedIndicesForCoord(f, origin, projectLcc, *x), axis=1)\n",
    "wt_df['coord_idx'] = _xy"
   ]
  },
  {
   "cell_type": "code",
   "execution_count": 13,
   "metadata": {},
   "outputs": [],
   "source": [
    "turbines_97_103 = wt_df[(wt_df['t_hh'] > 97) & (wt_df['t_hh'] < 103)]\n",
    "coordinates_97_103 = turbines_97_103['coord_idx'].unique()\n",
    "\n",
    "turbines_55_65 = wt_df[(wt_df['t_hh'] > 55) & (wt_df['t_hh'] < 65)]\n",
    "coordinates_55_65 = turbines_55_65['coord_idx'].unique()"
   ]
  },
  {
   "cell_type": "code",
   "execution_count": 21,
   "metadata": {},
   "outputs": [],
   "source": [
    "winddirection_200_dataset = f['winddirection_200m']\n",
    "winddirection_160_dataset = f['winddirection_160m']\n",
    "winddirection_100_dataset = f['winddirection_100m']\n",
    "winddirection_60_dataset = f['winddirection_60m']"
   ]
  },
  {
   "cell_type": "code",
   "execution_count": 15,
   "metadata": {},
   "outputs": [
    {
     "name": "stdout",
     "output_type": "stream",
     "text": [
      "0\n",
      "100\n",
      "200\n",
      "300\n",
      "400\n",
      "0\n",
      "100\n",
      "0\n",
      "100\n"
     ]
    }
   ],
   "source": [
    "def getDataForCoordinates(coords, dataset):\n",
    "    speed = []\n",
    "    \n",
    "    i = 0\n",
    "    for coordinate in coords:\n",
    "        if (i % 100 == 0):\n",
    "            print(i)\n",
    "        i += 1\n",
    "        speed.append(dataset[0:8928, coordinate[0], coordinate[1]])\n",
    "        \n",
    "    return speed\n",
    "        \n",
    "winddirection_100 = getDataForCoordinates(coordinates_97_103, winddirection_100_dataset)\n",
    "winddirection_60 = getDataForCoordinates(coordinates_55_65, winddirection_60_dataset)\n",
    "winddirection_100_for_60_turbine = getDataForCoordinates(coordinates_55_65, winddirection_100_dataset)\n",
    "winddirection_160_for_60_turbine = getDataForCoordinates(coordinates_55_65, winddirection_160_dataset)\n",
    "winddirection_200_for_60_turbine = getDataForCoordinates(coordinates_55_65, winddirection_200_dataset)"
   ]
  },
  {
   "cell_type": "code",
   "execution_count": 22,
   "metadata": {},
   "outputs": [
    {
     "name": "stdout",
     "output_type": "stream",
     "text": [
      "0\n",
      "100\n",
      "0\n",
      "100\n"
     ]
    }
   ],
   "source": [
    "winddirection_160_for_60_turbine = getDataForCoordinates(coordinates_55_65, winddirection_160_dataset)\n",
    "winddirection_200_for_60_turbine = getDataForCoordinates(coordinates_55_65, winddirection_200_dataset)"
   ]
  },
  {
   "cell_type": "code",
   "execution_count": 43,
   "metadata": {
    "scrolled": true
   },
   "outputs": [
    {
     "data": {
      "image/png": "[encoded data removed]",
      "text/plain": [
       "<Figure size 1440x360 with 1 Axes>"
      ]
     },
     "metadata": {
      "needs_background": "light"
     },
     "output_type": "display_data"
    }
   ],
   "source": [
    "winddirection_60_avg = np.apply_along_axis(np.mean, 1, winddirection_60)\n",
    "winddirection_100_for_60_avg = np.apply_along_axis(np.mean, 1, winddirection_100_for_60_turbine)\n",
    "winddirection_160_for_60_avg = np.apply_along_axis(np.mean, 1, winddirection_160_for_60_turbine)\n",
    "winddirection_200_for_60_avg = np.apply_along_axis(np.mean, 1, winddirection_200_for_60_turbine)\n",
    "winddirection_100_avg = np.apply_along_axis(np.mean, 1, winddirection_100)\n",
    "\n",
    "plt.figure(figsize=(20, 5))\n",
    "\n",
    "plt.hist(winddirection_100_avg, bins=20, histtype='step', label='100m at 100m turbines')\n",
    "\n",
    "plt.hist(winddirection_60_avg, bins=20, histtype='step', label='60m at 60m turbines')\n",
    "plt.hist(winddirection_100_for_60_avg, bins=20, histtype='step', label='100m at 60m turbines')\n",
    "plt.hist(winddirection_160_for_60_avg, bins=20, histtype='step', label='160m at 60m turbines')\n",
    "plt.hist(winddirection_200_for_60_avg, bins=20, histtype='step', label='200m at 60m turbines')\n",
    "\n",
    "plt.title('Avg wind direction at different turbine locations')\n",
    "plt.legend()\n",
    "\n",
    "plt.show()"
   ]
  },
  {
   "cell_type": "code",
   "execution_count": null,
   "metadata": {},
   "outputs": [],
   "source": []
  }
 ],
 "metadata": {
  "kernelspec": {
   "display_name": "Python 3",
   "language": "python",
   "name": "python3"
  },
  "language_info": {
   "codemirror_mode": {
    "name": "ipython",
    "version": 3
   },
   "file_extension": ".py",
   "mimetype": "text/x-python",
   "name": "python",
   "nbconvert_exporter": "python",
   "pygments_lexer": "ipython3",
   "version": "3.6.5"
  }
 },
 "nbformat": 4,
 "nbformat_minor": 2
}
