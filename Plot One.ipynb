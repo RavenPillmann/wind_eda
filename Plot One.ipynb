{
 "cells": [
  {
   "cell_type": "markdown",
   "metadata": {},
   "source": [
    "# Plot One"
   ]
  },
  {
   "cell_type": "code",
   "execution_count": 4,
   "metadata": {},
   "outputs": [],
   "source": [
    "import h5pyd\n",
    "from pyproj import Proj\n",
    "\n",
    "import pandas as pd\n",
    "import numpy as np\n",
    "\n",
    "wt_df = pd.read_csv('uswtdbCSV/uswtdb_v1_2_20181001.csv')\n",
    "\n",
    "# Grabbed from the intro demo notebook at https://www.nrel.gov/grid/wind-toolkit.html\n",
    "f = h5pyd.File(\"/nrel/wtk-us.h5\", 'r') \n",
    "\n",
    "dset_coords = f['coordinates']\n",
    "projstring = \"\"\"+proj=lcc +lat_1=30 +lat_2=60 \n",
    "                    +lat_0=38.47240422490422 +lon_0=-96.0 \n",
    "                    +x_0=0 +y_0=0 +ellps=sphere \n",
    "                    +units=m +no_defs \"\"\"\n",
    "projectLcc = Proj(projstring)\n",
    "origin_ll = reversed(dset_coords[0][0])  # Grab origin directly from database\n",
    "origin = projectLcc(*origin_ll)\n",
    "\n",
    "def updatedIndicesForCoord(f, origin, projectLcc, lat, lon):\n",
    "    coords = (lon, lat)\n",
    "    coords = projectLcc(*coords)\n",
    "    delta = np.subtract(coords, origin)\n",
    "    ij = [int(round(x/2000)) for x in delta]\n",
    "    return tuple(reversed(ij))\n",
    "\n",
    "_xy = wt_df[['ylat','xlong']].apply(lambda x: updatedIndicesForCoord(f, origin, projectLcc, *x), axis=1)\n",
    "wt_df['coord_idx'] = _xy"
   ]
  },
  {
   "cell_type": "code",
   "execution_count": 7,
   "metadata": {},
   "outputs": [],
   "source": [
    "turbines_97_103 = wt_df[(wt_df['t_hh'] > 97) & (wt_df['t_hh'] < 103)]\n",
    "coordinates_97_103 = turbines_97_103['coord_idx'].unique()\n",
    "\n",
    "turbines_55_65 = wt_df[(wt_df['t_hh'] > 55) & (wt_df['t_hh'] < 65)]\n",
    "coordinates_55_65 = turbines_55_65['coord_idx'].unique()"
   ]
  },
  {
   "cell_type": "code",
   "execution_count": 8,
   "metadata": {},
   "outputs": [],
   "source": [
    "windspeed_100_dataset = f['windspeed_100m']\n",
    "windspeed_60_dataset = f['windspeed_60m']"
   ]
  },
  {
   "cell_type": "code",
   "execution_count": 9,
   "metadata": {},
   "outputs": [
    {
     "name": "stdout",
     "output_type": "stream",
     "text": [
      "0\n",
      "100\n",
      "200\n",
      "300\n",
      "400\n",
      "0\n",
      "100\n",
      "0\n",
      "100\n"
     ]
    }
   ],
   "source": [
    "def getDataForCoordinates(coords, dataset):\n",
    "    speed = []\n",
    "    \n",
    "    i = 0\n",
    "    for coordinate in coords:\n",
    "        if (i % 100 == 0):\n",
    "            print(i)\n",
    "        i += 1\n",
    "        speed.append(dataset[0:8928, coordinate[0], coordinate[1]])\n",
    "        \n",
    "    return speed\n",
    "        \n",
    "windspeed_100 = getDataForCoordinates(coordinates_97_103, windspeed_100_dataset)\n",
    "windspeed_60 = getDataForCoordinates(coordinates_55_65, windspeed_60_dataset)\n",
    "windspeed_100_for_60_turbine = getDataForCoordinates(coordinates_55_65, windspeed_100_dataset)"
   ]
  },
  {
   "cell_type": "code",
   "execution_count": 11,
   "metadata": {},
   "outputs": [
    {
     "data": {
      "image/png": "[encoded data removed]",
      "text/plain": [
       "<Figure size 432x288 with 1 Axes>"
      ]
     },
     "metadata": {
      "needs_background": "light"
     },
     "output_type": "display_data"
    },
    {
     "name": "stdout",
     "output_type": "stream",
     "text": [
      "7.7018113\n",
      "0.5271361\n"
     ]
    }
   ],
   "source": [
    "import matplotlib.pyplot as plt\n",
    "windspeed_100_avg = np.apply_along_axis(np.mean, 1, windspeed_100)\n",
    "plt.hist(windspeed_100_avg, bins=20)\n",
    "plt.title('avg 100m windspeeds over one month at 100m turbines')\n",
    "plt.show()\n",
    "print(np.mean(windspeed_100_avg))\n",
    "print(np.std(windspeed_100_avg))"
   ]
  },
  {
   "cell_type": "code",
   "execution_count": 12,
   "metadata": {},
   "outputs": [
    {
     "data": {
      "image/png": "[encoded data removed]",
      "text/plain": [
       "<Figure size 432x288 with 1 Axes>"
      ]
     },
     "metadata": {
      "needs_background": "light"
     },
     "output_type": "display_data"
    },
    {
     "name": "stdout",
     "output_type": "stream",
     "text": [
      "7.6842275\n",
      "1.1770458\n"
     ]
    }
   ],
   "source": [
    "windspeed_60_avg = np.apply_along_axis(np.mean, 1, windspeed_60)\n",
    "plt.hist(windspeed_60_avg, bins=20)\n",
    "plt.title('avg 60m windspeeds over one month at 60m turbines')\n",
    "plt.show()\n",
    "print(np.mean(windspeed_60_avg))\n",
    "print(np.std(windspeed_60_avg))"
   ]
  },
  {
   "cell_type": "code",
   "execution_count": 17,
   "metadata": {},
   "outputs": [
    {
     "data": {
      "image/png": "[encoded data removed]",
      "text/plain": [
       "<Figure size 432x288 with 1 Axes>"
      ]
     },
     "metadata": {
      "needs_background": "light"
     },
     "output_type": "display_data"
    },
    {
     "name": "stdout",
     "output_type": "stream",
     "text": [
      "8.357396\n",
      "1.1551372\n"
     ]
    }
   ],
   "source": [
    "windspeed_100_for_60_turbines_avg = np.apply_along_axis(np.mean, 1, windspeed_100_for_60_turbine)\n",
    "plt.hist(windspeed_100_for_60_turbines_avg, bins=20)\n",
    "plt.title('avg 100m windspeeds over one month at 60m turbines')\n",
    "plt.show()\n",
    "print(np.mean(windspeed_100_for_60_turbines_avg))\n",
    "print(np.std(windspeed_100_for_60_turbines_avg))"
   ]
  },
  {
   "cell_type": "code",
   "execution_count": null,
   "metadata": {},
   "outputs": [],
   "source": []
  }
 ],
 "metadata": {
  "kernelspec": {
   "display_name": "Python 3",
   "language": "python",
   "name": "python3"
  },
  "language_info": {
   "codemirror_mode": {
    "name": "ipython",
    "version": 3
   },
   "file_extension": ".py",
   "mimetype": "text/x-python",
   "name": "python",
   "nbconvert_exporter": "python",
   "pygments_lexer": "ipython3",
   "version": "3.6.5"
  }
 },
 "nbformat": 4,
 "nbformat_minor": 2
}
